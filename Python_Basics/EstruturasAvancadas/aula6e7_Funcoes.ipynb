{
 "cells": [
  {
   "cell_type": "code",
   "execution_count": 2,
   "id": "c02347c5",
   "metadata": {},
   "outputs": [],
   "source": [
    "def hello ():\n",
    "    print('Olá, mundo!')"
   ]
  },
  {
   "cell_type": "code",
   "execution_count": 3,
   "id": "e12cad0e",
   "metadata": {},
   "outputs": [
    {
     "name": "stdout",
     "output_type": "stream",
     "text": [
      "Olá, mundo!\n"
     ]
    }
   ],
   "source": [
    "hello()"
   ]
  },
  {
   "cell_type": "code",
   "execution_count": 4,
   "id": "5801efa2",
   "metadata": {},
   "outputs": [],
   "source": [
    "def calcula_media(valor1, valor2, valor3):\n",
    "    soma = valor1 + valor2 + valor3\n",
    "    media = soma/3\n",
    "    return media"
   ]
  },
  {
   "cell_type": "code",
   "execution_count": 5,
   "id": "898c5768",
   "metadata": {},
   "outputs": [
    {
     "data": {
      "text/plain": [
       "10.0"
      ]
     },
     "execution_count": 5,
     "metadata": {},
     "output_type": "execute_result"
    }
   ],
   "source": [
    "calcula_media(10,10,10)"
   ]
  },
  {
   "cell_type": "code",
   "execution_count": 6,
   "id": "a5d40e7e",
   "metadata": {},
   "outputs": [
    {
     "data": {
      "text/plain": [
       "9.0"
      ]
     },
     "execution_count": 6,
     "metadata": {},
     "output_type": "execute_result"
    }
   ],
   "source": [
    "calcula_media(9,10,8)"
   ]
  },
  {
   "cell_type": "code",
   "execution_count": 7,
   "id": "30de6de4",
   "metadata": {},
   "outputs": [
    {
     "name": "stdout",
     "output_type": "stream",
     "text": [
      "9.333333333333334\n"
     ]
    }
   ],
   "source": [
    "resultado = calcula_media(valor1=9 ,valor2=10, valor3=9)\n",
    "print(resultado)"
   ]
  },
  {
   "cell_type": "code",
   "execution_count": 9,
   "id": "64ce917b",
   "metadata": {},
   "outputs": [
    {
     "name": "stdout",
     "output_type": "stream",
     "text": [
      "Olá , Eduarda\n"
     ]
    }
   ],
   "source": [
    "print('Olá', end = ' ')\n",
    "print(', Eduarda')"
   ]
  },
  {
   "cell_type": "code",
   "execution_count": 13,
   "id": "081e4575",
   "metadata": {},
   "outputs": [
    {
     "ename": "SyntaxError",
     "evalue": "non-default argument follows default argument (Temp/ipykernel_16964/1501203766.py, line 1)",
     "output_type": "error",
     "traceback": [
      "\u001b[1;36m  File \u001b[1;32m\"C:\\Users\\eduar\\AppData\\Local\\Temp/ipykernel_16964/1501203766.py\"\u001b[1;36m, line \u001b[1;32m1\u001b[0m\n\u001b[1;33m    def calcula_media(valo1=0, valor2, valor3=0):\u001b[0m\n\u001b[1;37m                                       ^\u001b[0m\n\u001b[1;31mSyntaxError\u001b[0m\u001b[1;31m:\u001b[0m non-default argument follows default argument\n"
     ]
    }
   ],
   "source": [
    "def calcula_media(valo1=0, valor2, valor3=0):\n",
    "    soma = valor1 + valor3 + valor3\n",
    "    media = soma / 3\n",
    "    return media"
   ]
  },
  {
   "cell_type": "markdown",
   "id": "dfe260f6",
   "metadata": {},
   "source": [
    "Quando uma função é chamada pelo nome, o fluxo do programa é interrompido. Em seguida, a função inteira é executada, e no final dela, o programa volta a ser executado do mesmo ponto que parou.\n",
    "\n",
    "\n",
    "A função deve receber vários parâmetros separados por vírgula:\n",
    "\n",
    "def dadosPessoais(nome, idade, cidade):\n",
    "    print(\"Seu nome é {}, você tem {} anos e mora em {}.\".format(nome, idade, cidade))\n",
    "\n",
    "dadosPessoais(\"José\", 30, \"Maceió\")\n",
    "#Saída: Seu nome é José, você tem 30 anos e mora em Maceió.\n",
    "\n",
    "\n",
    "Os parâmetros podem ser passados fora de ordem. Porém, para isso precisamos explicitar qual parâmetro estamos passando, para evitar ambiguidade ou erros de interpretação do Python.\n",
    "\n",
    "dadosPessoais(idade=56, cidade=\"Poa\", nome=\"Tapi\")\n",
    "#saida: seu nome é Tapi, você tem 56 anos e mora em Poa\n",
    "\n",
    "\n",
    "FUNÇÕES COM RESPOSTA:\n",
    "\n",
    "utilização do return no final da função com o valor que queremos retornar.\n",
    "\n",
    "\n",
    "FUNÇÕES RECURSIVAS: \n",
    "\n",
    "função faz referencia a si mesma, exemplo:\n",
    "        def funcaoRecursiva(numero):\n",
    "            if (numero != 1):\n",
    "                funcaoRecursiva(numero - 1)\n",
    "            print(numero)\n",
    "\n",
    "        print(\"Testando a função recursiva:\")\n",
    "        funcaoRecursiva(10)\n",
    "     \n",
    "Dizemos que é um comportamento de pilha - exatamente como uma pilha de pratos sobre a mesa: O primeiro prato que foi colocado sobre a mesa será o último a sair, pois todos os pratos colocados sobre ele precisam ser retirados antes de você poder retirar o último.\n",
    "\n",
    "Problemas recursivos normalmente são problemas do tipo \"dividir para conquistar\": Temos um \"caso base\", ou seja, um ou mais casos onde há uma resposta direta; E temos um \"caso geral\", que é uma versão reduzida do problema original."
   ]
  },
  {
   "cell_type": "code",
   "execution_count": 21,
   "id": "62f497d2",
   "metadata": {},
   "outputs": [],
   "source": [
    "def calcula_media(*args, margem):\n",
    "    soma = sum(args)\n",
    "    media = soma / len(args)\n",
    "    return media + margem\n",
    "#print(args, type(args))"
   ]
  },
  {
   "cell_type": "markdown",
   "id": "38d1e900",
   "metadata": {},
   "source": [
    "#Agrupando Parâmetros\n",
    "\n",
    "Podemos utilizar o operador * - que, neste caso, não será uma multiplicação. Ao colocarmos o * ao lado do nome de um parâmetro na definição da função, estamos dizendo que aquele argumento será uma coleção. Mais especificamente, uma tupla. Porém, o usuário não irá passar uma tupla. Ele irá passar quantos argumentos ele quiser, e o Python automaticamente criará uma tupla com eles:\n",
    "\n",
    "        def piscina(*infos):\n",
    "            vol = infos[0]*infos[1]*infos[2]\n",
    "            return vol\n",
    "\n",
    "        volume = piscina(5, 4, 5)\n",
    "\n",
    "        print('O volume é: ', volume)\n",
    "        \n",
    "Podemos utilizar o operador * na chamada da função também. Na definição, o operador * indica que devemos agrupar itens avulsos em uma coleção. Na chamada, ele indica que uma coleção deve ser expandida em itens avulsos:\n",
    "\n",
    "        def piscina(prof, largura, comprimento):\n",
    "            vol = prof*largura*comprimento\n",
    "            return vol\n",
    "\n",
    "        lista = [5, 4, 5]\n",
    "\n",
    "        volume = piscina(*lista)\n",
    "\n",
    "        print('O volume é: ', volume)\n",
    "        \n",
    "        \n",
    "#Parâmetros opcionais\n",
    "\n",
    "Outra possibilidade são funções com parâmetros opcionais. Note que isso é diferente de termos quantidade variável de parâmetros. No caso da quantidade variável, normalmente são diversos parâmetros com a mesma utilidade (números a serem somados, valores a serem exibidos etc), enquanto os parâmetros opcionais são informações distintas que podem ou não ser passadas para a função.\n",
    "\n",
    "Para criar parâmetros opcionais, usaremos **, e os parâmetros passados serão agrupados em um dicionário: o nome do parâmetro será uma chave, e o valor será... O valor.\n",
    "\n",
    "        def piscina(prof, **infos):\n",
    "            vol = prof*infos['largura']*infos['comprimento']\n",
    "            return vol\n",
    "\n",
    "        volume = piscina(5, largura=4, comprimento=5)\n",
    "\n",
    "        print('O volume é: ', volume)\n",
    "\n",
    "Analogamente ao caso dos parâmetros múltiplos, é possível que o usuário da função já tenha os dados organizados em um dicionário. Neste caso, basta usar ** na chamada da função para expandir o dicionário em vários parâmetros opcionais:\n",
    "\n",
    "        def piscina(prof, largura=4, comprimento=5):\n",
    "            vol = prof*largura*comprimento\n",
    "            return vol\n",
    "\n",
    "        infos = {'largura': 10, 'comprimento': 20}\n",
    "\n",
    "        volume = piscina(5, **infos)\n",
    "\n",
    "        print('O volume é: ', volume)"
   ]
  },
  {
   "cell_type": "code",
   "execution_count": 22,
   "id": "913217b8",
   "metadata": {},
   "outputs": [
    {
     "data": {
      "text/plain": [
       "9.3"
      ]
     },
     "execution_count": 22,
     "metadata": {},
     "output_type": "execute_result"
    }
   ],
   "source": [
    "calcula_media(10,8,9, margem =0.3)"
   ]
  },
  {
   "cell_type": "code",
   "execution_count": 25,
   "id": "05698b8f",
   "metadata": {},
   "outputs": [],
   "source": [
    "def print_info(**kwargs):\n",
    "    print(kwargs, type(kwargs))"
   ]
  },
  {
   "cell_type": "code",
   "execution_count": 26,
   "id": "0b0a7240",
   "metadata": {},
   "outputs": [
    {
     "name": "stdout",
     "output_type": "stream",
     "text": [
      "{'nome': 'Eduarda', 'sobrenome': 'Castro'} <class 'dict'>\n"
     ]
    }
   ],
   "source": [
    "print_info(nome='Eduarda', sobrenome='Castro')"
   ]
  }
 ],
 "metadata": {
  "kernelspec": {
   "display_name": "Python 3 (ipykernel)",
   "language": "python",
   "name": "python3"
  },
  "language_info": {
   "codemirror_mode": {
    "name": "ipython",
    "version": 3
   },
   "file_extension": ".py",
   "mimetype": "text/x-python",
   "name": "python",
   "nbconvert_exporter": "python",
   "pygments_lexer": "ipython3",
   "version": "3.9.6"
  }
 },
 "nbformat": 4,
 "nbformat_minor": 5
}
