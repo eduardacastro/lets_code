{
 "cells": [
  {
   "cell_type": "markdown",
   "id": "9e23ad1c",
   "metadata": {},
   "source": [
    "Listas"
   ]
  },
  {
   "cell_type": "markdown",
   "id": "99819245",
   "metadata": {},
   "source": [
    "Listas: armazenar uma coleção de objetos/vários valores\n",
    "\n",
    "#criando uma lista vazia:\n",
    "listavazia = []\n",
    "\n",
    "#criando uma lista com alguns valores:\n",
    "numeros = [1 , 2 , 3 , 44]\n",
    "\n",
    "#listas podem mesclar diferentes tipos de valores\n",
    "listamista = [14, \"lets code\", 0.1, True]\n",
    "\n",
    "#acessamos os elementos da lista através de um índice entre colchetes, que começam em zero\n",
    "print(numeros[0])\n",
    "print(numeros[1])\n",
    "print(numeros[2])\n",
    "\n",
    "#listas são mutáveis:podemos alterar o valor de seus itens\n",
    "numero[2] = 5\n",
    "print (numeros)\n",
    "\n",
    "#Um jeito inteligente de trabalhar com listas é utilicando loops.\n",
    "indice = 0\n",
    "while indice < 5:\n",
    "    print(numeros[indice])\n",
    "    indice = indice + 1\n",
    "    \n",
    "    FUNÇÕES DE LISTAS:\n",
    "\n",
    "Para percorrer a lista podemos utilizar um while, como também um len() caso não soubéssemos o comprimento da lista\n",
    "\n",
    "-> lista.append(): adiciona um elemento novo ao final da lista\n",
    "->lista.remove(): deleta um elemento da lista\n",
    "-> lista.count(): conta quantas vezes um elemento aparece\n",
    "-> lista.index(): busca em um elemento e fala em qual posição ele aparece\n",
    "-> lista.sort(): ordena uma lisra\n",
    "-> max(lista): obtem o maior valor da lista\n",
    "-> min(lista): obtem o menor valor da lista"
   ]
  },
  {
   "cell_type": "code",
   "execution_count": 2,
   "id": "a0904e69",
   "metadata": {},
   "outputs": [
    {
     "name": "stdout",
     "output_type": "stream",
     "text": [
      "['Brasil', 'Chile', 'Argentina', 'Canada', 'Japao', 'China']\n"
     ]
    }
   ],
   "source": [
    "omes_paises = ['Brasil', 'Chile', 'Argentina', 'Canada', 'Japao', 'China']\n",
    "print (nomes_paises)"
   ]
  },
  {
   "cell_type": "code",
   "execution_count": 3,
   "id": "63e5476d",
   "metadata": {},
   "outputs": [
    {
     "name": "stdout",
     "output_type": "stream",
     "text": [
      "Tamanho da lista:  6\n"
     ]
    }
   ],
   "source": [
    "print('Tamanho da lista: ', len(nomes_paises))"
   ]
  },
  {
   "cell_type": "code",
   "execution_count": 4,
   "id": "cf85b3fd",
   "metadata": {},
   "outputs": [
    {
     "name": "stdout",
     "output_type": "stream",
     "text": [
      "Pais Argentina\n"
     ]
    }
   ],
   "source": [
    "print('Pais',nomes_paises[2])"
   ]
  },
  {
   "cell_type": "code",
   "execution_count": 5,
   "id": "7c450ac9",
   "metadata": {},
   "outputs": [
    {
     "name": "stdout",
     "output_type": "stream",
     "text": [
      "Pais Canada\n"
     ]
    }
   ],
   "source": [
    "print('Pais',nomes_paises[-3])"
   ]
  },
  {
   "cell_type": "code",
   "execution_count": 6,
   "id": "4b9a7779",
   "metadata": {},
   "outputs": [
    {
     "name": "stdout",
     "output_type": "stream",
     "text": [
      "Pais Colombia\n",
      "['Brasil', 'Chile', 'Argentina', 'Canada', 'Colombia', 'China']\n"
     ]
    }
   ],
   "source": [
    "nomes_paises[4] = 'Colombia'\n",
    "print('Pais', nomes_paises[4])\n",
    "print (nomes_paises)"
   ]
  },
  {
   "cell_type": "code",
   "execution_count": 7,
   "id": "06512c0f",
   "metadata": {},
   "outputs": [
    {
     "name": "stdout",
     "output_type": "stream",
     "text": [
      "['Chile', 'Argentina']\n"
     ]
    }
   ],
   "source": [
    "print(nomes_paises[1:3])"
   ]
  },
  {
   "cell_type": "code",
   "execution_count": 8,
   "id": "78e33f2b",
   "metadata": {},
   "outputs": [
    {
     "name": "stdout",
     "output_type": "stream",
     "text": [
      "['Chile', 'Argentina', 'Canada', 'Colombia']\n"
     ]
    }
   ],
   "source": [
    "print(nomes_paises[1:-1])"
   ]
  },
  {
   "cell_type": "code",
   "execution_count": 9,
   "id": "72a75656",
   "metadata": {},
   "outputs": [
    {
     "name": "stdout",
     "output_type": "stream",
     "text": [
      "['Argentina', 'Canada', 'Colombia', 'China']\n"
     ]
    }
   ],
   "source": [
    "print(nomes_paises[2:])"
   ]
  },
  {
   "cell_type": "code",
   "execution_count": 10,
   "id": "940a9fbf",
   "metadata": {},
   "outputs": [
    {
     "name": "stdout",
     "output_type": "stream",
     "text": [
      "['Brasil', 'Chile', 'Argentina']\n"
     ]
    }
   ],
   "source": [
    "print(nomes_paises[:3])"
   ]
  },
  {
   "cell_type": "code",
   "execution_count": 12,
   "id": "cb578ed5",
   "metadata": {},
   "outputs": [
    {
     "name": "stdout",
     "output_type": "stream",
     "text": [
      "['Brasil', 'Chile', 'Argentina', 'Canada', 'Colombia', 'China']\n"
     ]
    }
   ],
   "source": [
    "print(nomes_paises[:])"
   ]
  },
  {
   "cell_type": "code",
   "execution_count": 13,
   "id": "77318808",
   "metadata": {},
   "outputs": [
    {
     "name": "stdout",
     "output_type": "stream",
     "text": [
      "['Brasil', 'Argentina', 'Colombia']\n"
     ]
    }
   ],
   "source": [
    "print(nomes_paises[: :2])"
   ]
  },
  {
   "cell_type": "code",
   "execution_count": 14,
   "id": "9d2be327",
   "metadata": {},
   "outputs": [
    {
     "name": "stdout",
     "output_type": "stream",
     "text": [
      "['China', 'Colombia', 'Canada', 'Argentina', 'Chile', 'Brasil']\n"
     ]
    }
   ],
   "source": [
    "print(nomes_paises[: :-1])"
   ]
  },
  {
   "cell_type": "code",
   "execution_count": 16,
   "id": "12a8150a",
   "metadata": {},
   "outputs": [
    {
     "name": "stdout",
     "output_type": "stream",
     "text": [
      "True\n"
     ]
    }
   ],
   "source": [
    "print(\"Brasil\" in nomes_paises)"
   ]
  },
  {
   "cell_type": "code",
   "execution_count": 18,
   "id": "4307c325",
   "metadata": {},
   "outputs": [
    {
     "name": "stdout",
     "output_type": "stream",
     "text": [
      "False\n"
     ]
    }
   ],
   "source": [
    "print(\"Canada\" not in nomes_paises)"
   ]
  },
  {
   "cell_type": "code",
   "execution_count": 20,
   "id": "4c36bfc2",
   "metadata": {},
   "outputs": [
    {
     "name": "stdout",
     "output_type": "stream",
     "text": [
      "['Brasilia', 'Buenos Aires', 'Pequin', 'Bogotá']\n"
     ]
    }
   ],
   "source": [
    "lista_capitais = []\n",
    "lista_capitais.append('Brasilia')\n",
    "lista_capitais.append('Buenos Aires')\n",
    "lista_capitais.append('Pequin')\n",
    "lista_capitais.append('Bogotá')\n",
    "\n",
    "print(lista_capitais)"
   ]
  },
  {
   "cell_type": "code",
   "execution_count": 21,
   "id": "27542130",
   "metadata": {},
   "outputs": [
    {
     "name": "stdout",
     "output_type": "stream",
     "text": [
      "['Brasilia', 'Buenos Aires', 'Paris', 'Pequin', 'Bogotá']\n"
     ]
    }
   ],
   "source": [
    "lista_capitais.insert (2,'Paris')\n",
    "print(lista_capitais)"
   ]
  },
  {
   "cell_type": "code",
   "execution_count": 22,
   "id": "22bed11e",
   "metadata": {},
   "outputs": [
    {
     "name": "stdout",
     "output_type": "stream",
     "text": [
      "['Brasilia', 'Paris', 'Pequin', 'Bogotá']\n"
     ]
    }
   ],
   "source": [
    "lista_capitais.remove('Buenos Aires')\n",
    "print(lista_capitais)"
   ]
  },
  {
   "cell_type": "code",
   "execution_count": 23,
   "id": "616c00a2",
   "metadata": {},
   "outputs": [
    {
     "name": "stdout",
     "output_type": "stream",
     "text": [
      "['Brasilia', 'Paris', 'Bogotá'] Pequin\n"
     ]
    }
   ],
   "source": [
    "removido = lista_capitais.pop(2)\n",
    "print(lista_capitais, removido)"
   ]
  },
  {
   "cell_type": "markdown",
   "id": "9a8be297",
   "metadata": {},
   "source": [
    "- Tuplas"
   ]
  },
  {
   "cell_type": "markdown",
   "id": "e8a122ac",
   "metadata": {},
   "source": [
    "Sequencia ou coleção de valores ordenados (não é flexível)"
   ]
  },
  {
   "cell_type": "code",
   "execution_count": 24,
   "id": "4f1d94b2",
   "metadata": {},
   "outputs": [
    {
     "name": "stdout",
     "output_type": "stream",
     "text": [
      "('Brasilia', 'Buenos Aires', 'Paris', 'Pequin', 'Bogotá')\n"
     ]
    }
   ],
   "source": [
    "nomes_paises = ('Brasilia', 'Buenos Aires', 'Paris', 'Pequin', 'Bogotá')\n",
    "print(nomes_paises)"
   ]
  },
  {
   "cell_type": "code",
   "execution_count": 2,
   "id": "5dfc560d",
   "metadata": {},
   "outputs": [
    {
     "name": "stdout",
     "output_type": "stream",
     "text": [
      "('Brasilia', 'Buenos Aires', 'Paris', 'Pequin', 'Bogotá') <class 'tuple'>\n"
     ]
    }
   ],
   "source": [
    "nomes_paises ='Brasilia', 'Buenos Aires', 'Paris', 'Pequin', 'Bogotá'\n",
    "print(nomes_paises, type(nomes_paises))"
   ]
  },
  {
   "cell_type": "code",
   "execution_count": 26,
   "id": "572d8809",
   "metadata": {},
   "outputs": [
    {
     "name": "stdout",
     "output_type": "stream",
     "text": [
      "('São Paulo',) <class 'tuple'>\n"
     ]
    }
   ],
   "source": [
    "nome_estado = 'São Paulo',\n",
    "print(nome_estado, type(nome_estado))"
   ]
  },
  {
   "cell_type": "code",
   "execution_count": 27,
   "id": "79147cce",
   "metadata": {},
   "outputs": [
    {
     "data": {
      "text/plain": [
       "5"
      ]
     },
     "execution_count": 27,
     "metadata": {},
     "output_type": "execute_result"
    }
   ],
   "source": [
    "len(nomes_paises)"
   ]
  },
  {
   "cell_type": "code",
   "execution_count": 28,
   "id": "4896fe8c",
   "metadata": {},
   "outputs": [
    {
     "data": {
      "text/plain": [
       "'Pequin'"
      ]
     },
     "execution_count": 28,
     "metadata": {},
     "output_type": "execute_result"
    }
   ],
   "source": [
    "nomes_paises[3]"
   ]
  },
  {
   "cell_type": "code",
   "execution_count": 4,
   "id": "d6ff72ca",
   "metadata": {},
   "outputs": [
    {
     "name": "stdout",
     "output_type": "stream",
     "text": [
      "Brasilia Paris Pequin Bogotá\n"
     ]
    }
   ],
   "source": [
    "b, a, p, q, bo = nomes_paises\n",
    "print(b,p, q, bo)"
   ]
  },
  {
   "cell_type": "code",
   "execution_count": 5,
   "id": "43761530",
   "metadata": {},
   "outputs": [
    {
     "name": "stdout",
     "output_type": "stream",
     "text": [
      "Brasilia Buenos Aires Paris Pequin Bogotá\n"
     ]
    }
   ],
   "source": [
    "print(*nomes_paises)"
   ]
  },
  {
   "cell_type": "markdown",
   "id": "f702f6b6",
   "metadata": {},
   "source": [
    "#Uma tupla é uma coleção de objetos que lembra muito uma lista.\n",
    "\n",
    "#Ao invés de colchetes, usamos parênteses para declarar as tuplas:\n",
    "numeros = (1,2,3,4,8)\n",
    "\n",
    "#Podemos declarar sem parênteses também:\n",
    "numeros = 1,2,3,4,8\n",
    "\n",
    "#Para acessar um valor, utilizamos a mesma sintaxe das listas:\n",
    "print(numeros[4])\n",
    "print(type(numeros))\n",
    "\n",
    "#Porém tuplas são imutáves: não é possível adicionar ou modificar valores.\n",
    "\n",
    "#Podemos gerar uma tupla a partir de uma lista\n",
    "lista1 = [3, 2, 4, 5, 8]\n",
    "tupla1 = tuple(lista1)\n",
    "\n",
    "#Ou uma lista a partir de uma tupla:\n",
    "tupla2 = [ 1, 3, 4, 9]\n",
    "lista2 = list[tupla2]\n",
    "\n",
    "#Também pode-se usar o unpacking com uma tupla:\n",
    "a, b, c, d, e, f = numeros # \"desempacota\" a tupla numeros"
   ]
  }
 ],
 "metadata": {
  "kernelspec": {
   "display_name": "Python 3 (ipykernel)",
   "language": "python",
   "name": "python3"
  },
  "language_info": {
   "codemirror_mode": {
    "name": "ipython",
    "version": 3
   },
   "file_extension": ".py",
   "mimetype": "text/x-python",
   "name": "python",
   "nbconvert_exporter": "python",
   "pygments_lexer": "ipython3",
   "version": "3.9.6"
  }
 },
 "nbformat": 4,
 "nbformat_minor": 5
}
