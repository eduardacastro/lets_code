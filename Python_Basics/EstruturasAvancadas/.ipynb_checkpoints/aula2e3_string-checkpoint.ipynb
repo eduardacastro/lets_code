{
 "cells": [
  {
   "cell_type": "markdown",
   "id": "893207bf",
   "metadata": {},
   "source": [
    "# Strings"
   ]
  },
  {
   "cell_type": "code",
   "execution_count": 1,
   "id": "650f1c34",
   "metadata": {},
   "outputs": [
    {
     "name": "stdout",
     "output_type": "stream",
     "text": [
      "Google\n"
     ]
    }
   ],
   "source": [
    "empresa = 'Google'\n",
    "print(empresa)"
   ]
  },
  {
   "cell_type": "code",
   "execution_count": 3,
   "id": "a80855c2",
   "metadata": {},
   "outputs": [
    {
     "name": "stdout",
     "output_type": "stream",
     "text": [
      "Let's Code\n"
     ]
    }
   ],
   "source": [
    "empresa = \"Let's Code\"\n",
    "print(empresa)"
   ]
  },
  {
   "cell_type": "code",
   "execution_count": 4,
   "id": "e4534a4c",
   "metadata": {},
   "outputs": [
    {
     "name": "stdout",
     "output_type": "stream",
     "text": [
      "O professor Pietro da Let's Code disse:\"Hoje a pizza é por minha conta\"\n"
     ]
    }
   ],
   "source": [
    "#caracter de escape\n",
    "frase = \"O professor Pietro da Let's Code disse:\\\"Hoje a pizza é por minha conta.\\\"\"\n",
    "print(frase)"
   ]
  },
  {
   "cell_type": "code",
   "execution_count": 5,
   "id": "8bacc403",
   "metadata": {},
   "outputs": [
    {
     "name": "stdout",
     "output_type": "stream",
     "text": [
      "G\n"
     ]
    }
   ],
   "source": [
    "empresa = 'Google'\n",
    "print(empresa[0])"
   ]
  },
  {
   "cell_type": "code",
   "execution_count": 6,
   "id": "d0b3ea1b",
   "metadata": {},
   "outputs": [
    {
     "name": "stdout",
     "output_type": "stream",
     "text": [
      "Goo\n"
     ]
    }
   ],
   "source": [
    "#uso do slice\n",
    "print(empresa[:3])"
   ]
  },
  {
   "cell_type": "code",
   "execution_count": 7,
   "id": "b52e741b",
   "metadata": {},
   "outputs": [
    {
     "name": "stdout",
     "output_type": "stream",
     "text": [
      "['São Paulo', 'Belo Horizonte', 'Rio de Janeiro', 'Brasília']\n"
     ]
    }
   ],
   "source": [
    "#uso do split\n",
    "nomes_cidades = \"São Paulo, Belo Horizonte, Rio de Janeiro, Brasília\"\n",
    "nomes_cidades = nomes_cidades.split(', ')\n",
    "print(nomes_cidades)"
   ]
  },
  {
   "cell_type": "code",
   "execution_count": 9,
   "id": "a4b52db8",
   "metadata": {},
   "outputs": [
    {
     "name": "stdout",
     "output_type": "stream",
     "text": [
      "Menu Principla\n"
     ]
    }
   ],
   "source": [
    "#uso de strip\n",
    "\n",
    "cabecalho = \"      Menu Principla       \"\n",
    "print(cabecalho.strip())"
   ]
  },
  {
   "cell_type": "code",
   "execution_count": 10,
   "id": "fb2bd712",
   "metadata": {},
   "outputs": [
    {
     "name": "stdout",
     "output_type": "stream",
     "text": [
      "Rio De Janeiro\n",
      "Rio de janeiro\n",
      "rio de janeiro\n",
      "RIO DE JANEIRO\n"
     ]
    }
   ],
   "source": [
    "nome_cidade = \"rIo DE jaNeirO\"\n",
    "\n",
    "#Primeira letra de cada palavra fica maiuscula e o resto minusculo\n",
    "print(nome_cidade.title())\n",
    "\n",
    "#Primeira letra da frase em maiusculo e o resto em minusculo\n",
    "print(nome_cidade.capitalize())\n",
    "\n",
    "#todo o texto em minusculo\n",
    "print(nome_cidade.lower())\n",
    "\n",
    "#todo o texto em maiusculo\n",
    "print(nome_cidade.upper())"
   ]
  },
  {
   "cell_type": "code",
   "execution_count": 12,
   "id": "4c75c340",
   "metadata": {},
   "outputs": [
    {
     "name": "stdout",
     "output_type": "stream",
     "text": [
      "Que cidade do Brasil é conhecida como cidade maravilhosa?São paulo\n",
      "Tente de novo\n",
      "Que cidade do Brasil é conhecida como cidade maravilhosa?Belo Horixonre\n",
      "Tente de novo\n",
      "Que cidade do Brasil é conhecida como cidade maravilhosa?RIO DE JANEIRO\n",
      "Isso ai!\n"
     ]
    }
   ],
   "source": [
    "nome_cidade = input (\"Que cidade do Brasil é conhecida como cidade maravilhosa?\")\n",
    "nome_cidade = nome_cidade.strip()\n",
    "\n",
    "while nome_cidade.lower() != \"rio de janeiro\":\n",
    "    print(\"Tente de novo\")\n",
    "    nome_cidade = input (\"Que cidade do Brasil é conhecida como cidade maravilhosa?\")\n",
    "\n",
    "print('Isso ai!')"
   ]
  },
  {
   "cell_type": "code",
   "execution_count": 15,
   "id": "0ed92e11",
   "metadata": {},
   "outputs": [
    {
     "name": "stdout",
     "output_type": "stream",
     "text": [
      "True\n"
     ]
    }
   ],
   "source": [
    "mensagem = 'Você viu o que ele disse na sala ontem?'\n",
    "fui_citado = 'ele' in mensagem\n",
    "print(fui_citado)"
   ]
  },
  {
   "cell_type": "markdown",
   "id": "b29efba7",
   "metadata": {},
   "source": [
    "#Supondo que temos a seguinte string:\n",
    "\n",
    "frase = 'uma FRASE'\n",
    "\n",
    "#Podemos acessar individualmente cada caractere em uma frase\n",
    "#A ideia é a mesma de acessar uma lista:\n",
    "print(frase[0])\n",
    "print(frase[1])\n",
    "print(frase[2])\n",
    "\n",
    "tamanho = len(frase)\n",
    "print(\"A frase possui\", tamanho, \"caracteres\")\n",
    "\n",
    "#Porém, strings são imutáveis: não podemos alterar caracteres individuais\n",
    "#A linha abaixo, se for descomentada, dará erro no programa:\n",
    "#frase[4]= 'C'\n",
    "\n",
    "#Podemos converter strings para listas:\n",
    "listafrase = list(frase)\n",
    "print(listafrase)\n",
    "\n",
    "#A função join() intercala cada elemento de uma lista com uma string\n",
    "stringfinal = '-py'.join(listafrase)\n",
    "print(stringfinal)\n",
    "\n",
    "#Usar um join() com uma string vazia é útil para transformar a lista de volta em string:\n",
    "stringfinal = ''.join(listafrase)\n",
    "\n",
    "#Existem algumas funções interessantes que retornam a string \"tratada\":\n",
    "s1 = frase.capitalize() # 1a letra maiúscula, restante minúscula\n",
    "s2 = frase.title() # todo início de palavra em maiúscula, resto minúscula\n",
    "s3 = frase.upper() # string inteira em maiúscula\n",
    "s4 = frase.lower() # string inteira em minúscula\n",
    "s5 = frase.replace('F', 'C') # substitui a primeira substring pela segunda\n",
    "\n",
    "print(s1)\n",
    "print(s2)\n",
    "print(s3)\n",
    "print(s4)\n",
    "print(s5)\n",
    "#Note que NENHUMA delas ALTERA a string original, elas sempre retornam\n",
    "\n",
    "#A string nova.\n",
    "print('String original:', frase)\n",
    "\n",
    "#Outra possibilidade com strings é quebrar a string em uma lista de substrings\n",
    "#Sempre que o caractere especificado é encontrado, a string é quebrada\n",
    "quebra1 = frase.split(' ') # quebra a frase no caractere espaço em branco\n",
    "quebra2 = s3.split('A') # quebra a frase em maiúsculas no caractere 'A'\n",
    "\n",
    "print(quebra1)\n",
    "print(quebra2)\n",
    "\n",
    "#Podemos inserir quebras de linha com '\\n'\n",
    "frase = 'uma\\nFRASE'\n",
    "print(frase)\n",
    "#Podemos inserir tabulação com '\\t'\n",
    "frase = 'uma\\n\\tFRASE'\n",
    "print(frase)\n",
    "#Para conseguir representar a barra '\\', precisamos de 2 barras:\n",
    "frase = 'uma\\\\FRASE'"
   ]
  },
  {
   "cell_type": "markdown",
   "id": "1ef7691f",
   "metadata": {},
   "source": [
    "# Uso de Operadores aritméticos com string"
   ]
  },
  {
   "cell_type": "code",
   "execution_count": 16,
   "id": "ffb8b4cf",
   "metadata": {},
   "outputs": [
    {
     "name": "stdout",
     "output_type": "stream",
     "text": [
      "Olá, Felipe\n"
     ]
    }
   ],
   "source": [
    "comprimento = 'Olá, '\n",
    "nome = 'Felipe'\n",
    "print (comprimento + nome)"
   ]
  },
  {
   "cell_type": "code",
   "execution_count": 17,
   "id": "05e72a42",
   "metadata": {},
   "outputs": [
    {
     "name": "stdout",
     "output_type": "stream",
     "text": [
      "FelipeFelipeFelipeFelipeFelipe\n"
     ]
    }
   ],
   "source": [
    "print (nome*5)"
   ]
  },
  {
   "cell_type": "code",
   "execution_count": 19,
   "id": "8930d885",
   "metadata": {},
   "outputs": [
    {
     "name": "stdout",
     "output_type": "stream",
     "text": [
      "Eduarda tem 22 anos e 1 filho\n"
     ]
    }
   ],
   "source": [
    "nome = 'Eduarda'\n",
    "idade = 22\n",
    "n_filhos = 1\n",
    "print(nome + ' tem ' + str(idade) + ' anos e ' + str(n_filhos) + ' filho')"
   ]
  },
  {
   "cell_type": "code",
   "execution_count": 20,
   "id": "ae9332d1",
   "metadata": {},
   "outputs": [
    {
     "name": "stdout",
     "output_type": "stream",
     "text": [
      "Eduarda tem 22 anos e 1 filho\n"
     ]
    }
   ],
   "source": [
    "print('{} tem {} anos e {} filho'.format(nome, idade, n_filhos))"
   ]
  },
  {
   "cell_type": "code",
   "execution_count": 25,
   "id": "297addce",
   "metadata": {},
   "outputs": [
    {
     "name": "stdout",
     "output_type": "stream",
     "text": [
      "O preço da gasolina hoje subiu e está em R$ 3.48\n"
     ]
    },
    {
     "ename": "NameError",
     "evalue": "name 'stringoriginal' is not defined",
     "output_type": "error",
     "traceback": [
      "\u001b[1;31m---------------------------------------------------------------------------\u001b[0m",
      "\u001b[1;31mNameError\u001b[0m                                 Traceback (most recent call last)",
      "\u001b[1;32m~\\AppData\\Local\\Temp/ipykernel_16360/2341927902.py\u001b[0m in \u001b[0;36m<module>\u001b[1;34m\u001b[0m\n\u001b[0;32m     11\u001b[0m \u001b[1;33m\u001b[0m\u001b[0m\n\u001b[0;32m     12\u001b[0m \u001b[0mpreco\u001b[0m \u001b[1;33m=\u001b[0m \u001b[1;36m3.8547664\u001b[0m\u001b[1;33m\u001b[0m\u001b[1;33m\u001b[0m\u001b[0m\n\u001b[1;32m---> 13\u001b[1;33m \u001b[0mstringcompleta\u001b[0m \u001b[1;33m=\u001b[0m \u001b[0mstringoriginal\u001b[0m\u001b[1;33m.\u001b[0m\u001b[0mformat\u001b[0m\u001b[1;33m(\u001b[0m\u001b[0mpreco\u001b[0m\u001b[1;33m)\u001b[0m\u001b[1;33m\u001b[0m\u001b[1;33m\u001b[0m\u001b[0m\n\u001b[0m\u001b[0;32m     14\u001b[0m \u001b[0mprint\u001b[0m\u001b[1;33m(\u001b[0m\u001b[0mstringcompleta\u001b[0m\u001b[1;33m)\u001b[0m\u001b[1;33m\u001b[0m\u001b[1;33m\u001b[0m\u001b[0m\n",
      "\u001b[1;31mNameError\u001b[0m: name 'stringoriginal' is not defined"
     ]
    }
   ],
   "source": [
    "#Funções especiais de formatação\n",
    "\n",
    "preco_gasolina = 3.476\n",
    "print(\"O preço da gasolina hoje subiu e está em R$ {:.2f}\".format(preco_gasolina))\n",
    "\n",
    "'''\n",
    ": indica que passaremos opções\n",
    ".2 indica apenas 2 casas após o ponto decimal\n",
    "f indica que é um float \n",
    "'''\n",
    "\n",
    "preco = 3.8547664\n",
    "stringoriginal = 'O litro da gasolina custa {:.2f}'\n",
    "stringcompleta = stringoriginal.format(preco)\n",
    "\n",
    "print(stringcompleta)\n"
   ]
  },
  {
   "cell_type": "code",
   "execution_count": 22,
   "id": "e62a4ec1",
   "metadata": {},
   "outputs": [
    {
     "data": {
      "text/plain": [
       "'Eduarda tem 22 anos e 1 filhos.'"
      ]
     },
     "execution_count": 22,
     "metadata": {},
     "output_type": "execute_result"
    }
   ],
   "source": [
    "f'{nome} tem {idade} anos e {n_filhos} filhos.'"
   ]
  },
  {
   "cell_type": "code",
   "execution_count": 24,
   "id": "f8ddd046",
   "metadata": {},
   "outputs": [
    {
     "name": "stdout",
     "output_type": "stream",
     "text": [
      "O produto chocolate custa 3.14.\n"
     ]
    }
   ],
   "source": [
    "prod = 'chocolate'\n",
    "preco = 3.14\n",
    "print ('O produto {} custa {}.'.format(prod,preco))"
   ]
  },
  {
   "cell_type": "code",
   "execution_count": null,
   "id": "16164a26",
   "metadata": {},
   "outputs": [],
   "source": [
    "#Funções especiais de formatação\n",
    "\n",
    "stringoriginal = 'O litri de gasolina custa {:.2f}'\n"
   ]
  }
 ],
 "metadata": {
  "kernelspec": {
   "display_name": "Python 3 (ipykernel)",
   "language": "python",
   "name": "python3"
  },
  "language_info": {
   "codemirror_mode": {
    "name": "ipython",
    "version": 3
   },
   "file_extension": ".py",
   "mimetype": "text/x-python",
   "name": "python",
   "nbconvert_exporter": "python",
   "pygments_lexer": "ipython3",
   "version": "3.9.6"
  }
 },
 "nbformat": 4,
 "nbformat_minor": 5
}
