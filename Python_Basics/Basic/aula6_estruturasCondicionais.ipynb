{
 "cells": [
  {
   "cell_type": "code",
   "execution_count": 4,
   "id": "c1c0b19d",
   "metadata": {},
   "outputs": [
    {
     "name": "stdout",
     "output_type": "stream",
     "text": [
      "Qual é o valor da Corrida? 17\n",
      "Pegue a Corrida\n"
     ]
    }
   ],
   "source": [
    "valor_passagem = 4.38\n",
    "\n",
    "valor_corrida = input('Qual é o valor da Corrida? ')\n",
    "\n",
    "if float(valor_corrida) <= valor_passagem*5:\n",
    "    print('Pegue a Corrida')\n",
    "else:\n",
    "    print('Pegue o ônibus')"
   ]
  },
  {
   "cell_type": "code",
   "execution_count": 6,
   "id": "bd0ae157",
   "metadata": {},
   "outputs": [
    {
     "name": "stdout",
     "output_type": "stream",
     "text": [
      "Qual é o valor da Corrida? 23\n",
      "Espere um pouco\n"
     ]
    }
   ],
   "source": [
    "valor_passagem = 4.38\n",
    "\n",
    "valor_corrida = input('Qual é o valor da Corrida? ')\n",
    "\n",
    "if float(valor_corrida) <= valor_passagem * 5:\n",
    "    print('Pegue a Corrida')\n",
    "else:\n",
    "    if float(valor_corrida) <= valor_passagem * 6:\n",
    "        print('Espere um pouco')\n",
    "    else:\n",
    "        print('Pegue o ônibus')"
   ]
  },
  {
   "cell_type": "code",
   "execution_count": 10,
   "id": "7cfda167",
   "metadata": {},
   "outputs": [
    {
     "name": "stdout",
     "output_type": "stream",
     "text": [
      "Qual é o valor da Corrida? 50\n",
      "Pegue o ônibus\n"
     ]
    }
   ],
   "source": [
    "valor_passagem = 4.38\n",
    "\n",
    "valor_corrida = input('Qual é o valor da Corrida? ')\n",
    "\n",
    "if float(valor_corrida) <= valor_passagem * 5:\n",
    "    print('Pegue a Corrida')\n",
    "elif float(valor_corrida) <= valor_passagem * 6:\n",
    "    print('Espere um pouco')\n",
    "else:\n",
    "    print('Pegue o ônibus')"
   ]
  }
 ],
 "metadata": {
  "kernelspec": {
   "display_name": "Python 3 (ipykernel)",
   "language": "python",
   "name": "python3"
  },
  "language_info": {
   "codemirror_mode": {
    "name": "ipython",
    "version": 3
   },
   "file_extension": ".py",
   "mimetype": "text/x-python",
   "name": "python",
   "nbconvert_exporter": "python",
   "pygments_lexer": "ipython3",
   "version": "3.9.6"
  }
 },
 "nbformat": 4,
 "nbformat_minor": 5
}
