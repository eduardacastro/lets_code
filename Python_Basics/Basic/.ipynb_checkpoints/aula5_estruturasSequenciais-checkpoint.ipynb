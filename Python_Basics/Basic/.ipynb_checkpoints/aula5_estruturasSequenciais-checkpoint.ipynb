{
 "cells": [
  {
   "cell_type": "code",
   "execution_count": 1,
   "id": "c9d374ae",
   "metadata": {},
   "outputs": [
    {
     "name": "stdout",
     "output_type": "stream",
     "text": [
      "Digite sua idade: 22\n",
      "22 <class 'str'>\n"
     ]
    }
   ],
   "source": [
    "#input -> o usuario que digita\n",
    "#print -> output\n",
    "#type -> qual é o valor da variável\n",
    "#cashing -> transforma os tipos de variaveis\n",
    "\n",
    "idade = input(\"Digite sua idade: \")\n",
    "print (idade, type(idade))"
   ]
  },
  {
   "cell_type": "code",
   "execution_count": null,
   "id": "d4f739e4",
   "metadata": {},
   "outputs": [],
   "source": [
    "idade = int (idade)\n",
    "print(idade, type(idade))"
   ]
  },
  {
   "cell_type": "code",
   "execution_count": null,
   "id": "811bd214",
   "metadata": {
    "scrolled": true
   },
   "outputs": [],
   "source": [
    "print(float('123.25'))\n",
    "print(str(123.25))\n",
    "print(bool(''))\n",
    "print(bool(25.58))\n",
    "print(bool('abc'))\n",
    "print(bool(0))\n",
    "print(bool(-85))"
   ]
  },
  {
   "cell_type": "code",
   "execution_count": 7,
   "id": "e292abea",
   "metadata": {},
   "outputs": [
    {
     "name": "stdout",
     "output_type": "stream",
     "text": [
      "Digite o valor do seu salario mensal:5000\n",
      "Digite o valor do seu gasto mensal: 3000\n",
      "O montante que você pode economizar é de:  2000.0\n"
     ]
    }
   ],
   "source": [
    "salario_mensal = input('Digite o valor do seu salario mensal:')\n",
    "salario_mensal = float(salario_mensal)\n",
    "\n",
    "gasto_mensal = input('Digite o valor do seu gasto mensal: ')\n",
    "gasto_mensal = float(gasto_mensal)\n",
    "\n",
    "montante_economizado = 12 * (salario_mensal - gasto_mensal)\n",
    "print('O montante que você pode economizar em um ano é de: ',montante_economizado)"
   ]
  },
  {
   "cell_type": "code",
   "execution_count": null,
   "id": "6a00c66d",
   "metadata": {},
   "outputs": [],
   "source": []
  }
 ],
 "metadata": {
  "kernelspec": {
   "display_name": "Python 3 (ipykernel)",
   "language": "python",
   "name": "python3"
  },
  "language_info": {
   "codemirror_mode": {
    "name": "ipython",
    "version": 3
   },
   "file_extension": ".py",
   "mimetype": "text/x-python",
   "name": "python",
   "nbconvert_exporter": "python",
   "pygments_lexer": "ipython3",
   "version": "3.9.6"
  }
 },
 "nbformat": 4,
 "nbformat_minor": 5
}
