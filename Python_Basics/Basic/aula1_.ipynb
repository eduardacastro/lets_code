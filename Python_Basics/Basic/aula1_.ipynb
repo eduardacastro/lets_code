{
 "cells": [
  {
   "cell_type": "code",
   "execution_count": null,
   "id": "ce39014b",
   "metadata": {},
   "outputs": [],
   "source": [
    "x = -10 # uma variável do tipo inteiro (int)\n",
    "y = 3.14 # uma variável do tipo real (float)\n",
    "escola = \"Let's Code\" # uma variável literal (string)\n",
    "primeiraAula = True # uma variável lógica (booleana)\n",
    "\n",
    "\n",
    "\n",
    "'''\n",
    "O símbolo # é um comentário de apenas 1 linha.\n",
    "Usando 3 aspas simples consecutivas é possível abrir um bloco de comentário\n",
    "de múltiplas linhas. O bloco se encerra com outras 3 aspas simples.\n",
    "'''"
   ]
  },
  {
   "cell_type": "code",
   "execution_count": 3,
   "id": "9fbf0106",
   "metadata": {},
   "outputs": [
    {
     "name": "stdout",
     "output_type": "stream",
     "text": [
      "4\n",
      "<class 'int'>\n",
      "Eduarda\n",
      "<class 'str'>\n",
      "16.5654\n",
      "<class 'float'>\n",
      "False\n",
      "<class 'bool'>\n"
     ]
    }
   ],
   "source": [
    "x = 4\n",
    "y = \"Eduarda\"\n",
    "z = 16.5654\n",
    "i = False\n",
    "\n",
    "print (x)\n",
    "print(type(x))\n",
    "print (y)\n",
    "print(type(y))\n",
    "print (z)\n",
    "print(type(z))\n",
    "print (i)\n",
    "print(type(i))"
   ]
  },
  {
   "cell_type": "code",
   "execution_count": null,
   "id": "86237835",
   "metadata": {},
   "outputs": [],
   "source": []
  }
 ],
 "metadata": {
  "kernelspec": {
   "display_name": "Python 3 (ipykernel)",
   "language": "python",
   "name": "python3"
  },
  "language_info": {
   "codemirror_mode": {
    "name": "ipython",
    "version": 3
   },
   "file_extension": ".py",
   "mimetype": "text/x-python",
   "name": "python",
   "nbconvert_exporter": "python",
   "pygments_lexer": "ipython3",
   "version": "3.9.6"
  }
 },
 "nbformat": 4,
 "nbformat_minor": 5
}
